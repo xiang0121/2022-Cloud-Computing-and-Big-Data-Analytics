{
  "cells": [
    {
      "cell_type": "code",
      "execution_count": null,
      "metadata": {
        "colab": {
          "base_uri": "https://localhost:8080/"
        },
        "id": "wrAe9LO0BOTa",
        "outputId": "6f467b9c-c7e5-48d7-b484-7629808ffdd2"
      },
      "outputs": [],
      "source": [
        "!apt-get -y install openjdk-8-jre-headless\n",
        "!pip install pyspark"
      ]
    },
    {
      "cell_type": "code",
      "execution_count": 1,
      "metadata": {
        "id": "_RNHo4kPBRWh"
      },
      "outputs": [
        {
          "name": "stderr",
          "output_type": "stream",
          "text": [
            "22/12/31 00:13:17 WARN Utils: Your hostname, david0121-MS-7C02 resolves to a loopback address: 127.0.1.1; using 192.168.2.120 instead (on interface enp34s0)\n",
            "22/12/31 00:13:17 WARN Utils: Set SPARK_LOCAL_IP if you need to bind to another address\n",
            "WARNING: An illegal reflective access operation has occurred\n",
            "WARNING: Illegal reflective access by org.apache.spark.unsafe.Platform (file:/home/david0121/myenv/env01/lib/python3.10/site-packages/pyspark/jars/spark-unsafe_2.12-3.0.1.jar) to constructor java.nio.DirectByteBuffer(long,int)\n",
            "WARNING: Please consider reporting this to the maintainers of org.apache.spark.unsafe.Platform\n",
            "WARNING: Use --illegal-access=warn to enable warnings of further illegal reflective access operations\n",
            "WARNING: All illegal access operations will be denied in a future release\n",
            "22/12/31 00:13:18 WARN NativeCodeLoader: Unable to load native-hadoop library for your platform... using builtin-java classes where applicable\n",
            "Using Spark's default log4j profile: org/apache/spark/log4j-defaults.properties\n",
            "Setting default log level to \"WARN\".\n",
            "To adjust logging level use sc.setLogLevel(newLevel). For SparkR, use setLogLevel(newLevel).\n"
          ]
        }
      ],
      "source": [
        "from pyspark.sql import SparkSession\n",
        "spark = SparkSession.builder.appName(\"recommandation\").getOrCreate()"
      ]
    },
    {
      "cell_type": "code",
      "execution_count": 2,
      "metadata": {
        "id": "Ndk-5K2kBTRB"
      },
      "outputs": [],
      "source": [
        "df_train = spark.read.csv('./train_student.csv',header=True,inferSchema=True)\n"
      ]
    },
    {
      "cell_type": "code",
      "execution_count": 3,
      "metadata": {
        "colab": {
          "base_uri": "https://localhost:8080/"
        },
        "id": "t6A9s5pABVOg",
        "outputId": "1bf542e8-83d0-481a-8720-60d462e87c82"
      },
      "outputs": [
        {
          "name": "stdout",
          "output_type": "stream",
          "text": [
            "root\n",
            " |-- item: string (nullable = true)\n",
            " |-- user: string (nullable = true)\n",
            " |-- rating: integer (nullable = true)\n",
            "\n"
          ]
        }
      ],
      "source": [
        "df_train.printSchema()"
      ]
    },
    {
      "cell_type": "code",
      "execution_count": 4,
      "metadata": {
        "id": "VuiDPyjpBXmA"
      },
      "outputs": [],
      "source": [
        "from pyspark.sql.functions import format_number, lit\n",
        "df_train = df_train.withColumn('rating', df_train.rating.cast('float'))"
      ]
    },
    {
      "cell_type": "code",
      "execution_count": 5,
      "metadata": {
        "colab": {
          "base_uri": "https://localhost:8080/"
        },
        "id": "WamJ9W8FBbIR",
        "outputId": "4d3c4a3b-889d-44fe-ba04-a96c1d2a7fd9"
      },
      "outputs": [
        {
          "name": "stdout",
          "output_type": "stream",
          "text": [
            "root\n",
            " |-- item: string (nullable = true)\n",
            " |-- user: string (nullable = true)\n",
            " |-- rating: float (nullable = true)\n",
            "\n"
          ]
        }
      ],
      "source": [
        "df_train.printSchema()"
      ]
    },
    {
      "cell_type": "code",
      "execution_count": 6,
      "metadata": {
        "colab": {
          "base_uri": "https://localhost:8080/"
        },
        "id": "LsWufIKZBc_L",
        "outputId": "b5773647-1fc7-4ea3-d7dd-5e865bdbfc74"
      },
      "outputs": [
        {
          "name": "stderr",
          "output_type": "stream",
          "text": [
            "[Stage 2:>                                                          (0 + 1) / 1]\r"
          ]
        },
        {
          "name": "stdout",
          "output_type": "stream",
          "text": [
            "+-------+--------------------+--------------------+------------------+\n",
            "|summary|                item|                user|            rating|\n",
            "+-------+--------------------+--------------------+------------------+\n",
            "|  count|               83798|               83798|             83798|\n",
            "|   mean|2.0769135928283918E9|                null| 4.359018114990811|\n",
            "| stddev|2.0710778913333938E9|                null|0.9940809586163019|\n",
            "|    min|          0439893577|A012468118FTQAINE...|               1.0|\n",
            "|    max|          B00LBI9BKA|       AZZYW4YOE1B6E|               5.0|\n",
            "+-------+--------------------+--------------------+------------------+\n",
            "\n"
          ]
        },
        {
          "name": "stderr",
          "output_type": "stream",
          "text": [
            "                                                                                \r"
          ]
        }
      ],
      "source": [
        "df_train.describe().show()"
      ]
    },
    {
      "cell_type": "code",
      "execution_count": 7,
      "metadata": {
        "colab": {
          "base_uri": "https://localhost:8080/"
        },
        "id": "MQmH7UqNBepy",
        "outputId": "34353dd5-93df-4a79-97be-ead7d6eb6842"
      },
      "outputs": [
        {
          "data": {
            "text/plain": [
              "[Row(item='B008H54GVE', user='A2OIMJEGOCTQ87', rating=4.0),\n",
              " Row(item='B001NLISDG', user='A38KQZS5M1A8T8', rating=4.0),\n",
              " Row(item='B007S3S8HO', user='A1F5O1USOUOOXI', rating=3.0),\n",
              " Row(item='B008G6OOHA', user='A1FTZ5LLEX7NCM', rating=4.0),\n",
              " Row(item='B00A9JNR8E', user='A1R2JUOGIYH6HO', rating=4.0),\n",
              " Row(item='B00000JH3R', user='A2X7C89I7YRX1O', rating=5.0),\n",
              " Row(item='B000RXPU0U', user='A24BSKCWXC4M6D', rating=5.0),\n",
              " Row(item='B00DWXUYN0', user='A3JX1D26WFEXOS', rating=5.0),\n",
              " Row(item='B000E9DPVI', user='A2IWHA1XEYSPD6', rating=5.0),\n",
              " Row(item='B001EB9F3C', user='A2340917M1HHZ3', rating=4.0)]"
            ]
          },
          "execution_count": 7,
          "metadata": {},
          "output_type": "execute_result"
        }
      ],
      "source": [
        "df_train.head(10)"
      ]
    },
    {
      "cell_type": "markdown",
      "metadata": {
        "id": "ObRyIg2fSes9"
      },
      "source": [
        "Useful function: indexing ID(string) to numerical index"
      ]
    },
    {
      "cell_type": "code",
      "execution_count": 8,
      "metadata": {
        "id": "C-zgoSFwErJC"
      },
      "outputs": [],
      "source": [
        "from pyspark.ml.feature import StringIndexer, IndexToString\n",
        "from pyspark.ml import Pipeline\n"
      ]
    },
    {
      "cell_type": "code",
      "execution_count": 9,
      "metadata": {
        "id": "ADqbktFYEwRi"
      },
      "outputs": [],
      "source": [
        "indexers = [StringIndexer(inputCol=column, outputCol=column+\"_index\").setHandleInvalid(\"keep\").fit(df_train) for column in list(set(df_train.columns)-set(['rating'])) ]\n",
        "pipeline = Pipeline(stages=indexers)\n",
        "df_ID = pipeline.fit(df_train).transform(df_train)"
      ]
    },
    {
      "cell_type": "code",
      "execution_count": 10,
      "metadata": {
        "colab": {
          "base_uri": "https://localhost:8080/"
        },
        "id": "g7__2vKbE8C7",
        "outputId": "07cbabff-f57d-4bbf-e0da-9e2c94f851ca"
      },
      "outputs": [
        {
          "name": "stderr",
          "output_type": "stream",
          "text": [
            "22/12/31 00:13:27 WARN DAGScheduler: Broadcasting large task binary with size 1185.7 KiB\n"
          ]
        },
        {
          "data": {
            "text/plain": [
              "[Row(item='B008H54GVE', user='A2OIMJEGOCTQ87', rating=4.0, item_index=5709.0, user_index=1292.0),\n",
              " Row(item='B001NLISDG', user='A38KQZS5M1A8T8', rating=4.0, item_index=1849.0, user_index=4940.0),\n",
              " Row(item='B007S3S8HO', user='A1F5O1USOUOOXI', rating=3.0, item_index=937.0, user_index=669.0),\n",
              " Row(item='B008G6OOHA', user='A1FTZ5LLEX7NCM', rating=4.0, item_index=10888.0, user_index=107.0),\n",
              " Row(item='B00A9JNR8E', user='A1R2JUOGIYH6HO', rating=4.0, item_index=1979.0, user_index=1210.0),\n",
              " Row(item='B00000JH3R', user='A2X7C89I7YRX1O', rating=5.0, item_index=979.0, user_index=4764.0),\n",
              " Row(item='B000RXPU0U', user='A24BSKCWXC4M6D', rating=5.0, item_index=6385.0, user_index=2866.0),\n",
              " Row(item='B00DWXUYN0', user='A3JX1D26WFEXOS', rating=5.0, item_index=9620.0, user_index=8104.0),\n",
              " Row(item='B000E9DPVI', user='A2IWHA1XEYSPD6', rating=5.0, item_index=420.0, user_index=11230.0),\n",
              " Row(item='B001EB9F3C', user='A2340917M1HHZ3', rating=4.0, item_index=51.0, user_index=10687.0)]"
            ]
          },
          "execution_count": 10,
          "metadata": {},
          "output_type": "execute_result"
        }
      ],
      "source": [
        "df_ID.head(10)"
      ]
    },
    {
      "cell_type": "code",
      "execution_count": 11,
      "metadata": {
        "id": "L7K_fRKjBv7E"
      },
      "outputs": [],
      "source": [
        "(train, test) = df_ID.randomSplit([0.8, 0.2], seed = 2022)"
      ]
    },
    {
      "cell_type": "markdown",
      "metadata": {
        "id": "nvjRKqWKS6AW"
      },
      "source": [
        "Useful function: Construct Binary data \\\\\n",
        "adding 1 for watched and 0 for not watched"
      ]
    },
    {
      "cell_type": "code",
      "execution_count": 12,
      "metadata": {
        "id": "UGvGKXfQB_Xn"
      },
      "outputs": [],
      "source": [
        "def get_binary_data(ratings):\n",
        "    ratings = df_ID.withColumn('binary', lit(1))\n",
        "    userIds = df_ID.select(\"user_index\").distinct()\n",
        "    itemIds = df_ID.select(\"item_index\").distinct()\n",
        "\n",
        "    user_item = userIds.crossJoin(itemIds).join(ratings, ['user_index', 'item_index'], \"left\")\n",
        "    user_item = user_item.select(['user_index', 'item_index', 'binary']).fillna(0)\n",
        "    return user_item\n",
        "\n",
        "user_item = get_binary_data(df_ID)"
      ]
    },
    {
      "cell_type": "code",
      "execution_count": 13,
      "metadata": {
        "colab": {
          "base_uri": "https://localhost:8080/"
        },
        "id": "WkPAb0p5DEyE",
        "outputId": "cfc30bbb-4060-4dd2-ede4-94420297a1ae"
      },
      "outputs": [
        {
          "name": "stderr",
          "output_type": "stream",
          "text": [
            "22/12/31 00:13:29 WARN DAGScheduler: Broadcasting large task binary with size 1185.1 KiB\n",
            "                                                                                \r"
          ]
        },
        {
          "name": "stdout",
          "output_type": "stream",
          "text": [
            "+----------+----------+------+\n",
            "|user_index|item_index|binary|\n",
            "+----------+----------+------+\n",
            "|    5776.0|     305.0|     0|\n",
            "|    5776.0|    2815.0|     0|\n",
            "|    5776.0|    9753.0|     0|\n",
            "|    5776.0|     692.0|     0|\n",
            "|    5776.0|     299.0|     0|\n",
            "|    5776.0|     596.0|     0|\n",
            "|    5776.0|     496.0|     0|\n",
            "|    5776.0|    5776.0|     0|\n",
            "|    5776.0|    2734.0|     0|\n",
            "|    5776.0|    1051.0|     0|\n",
            "|    5776.0|    2862.0|     0|\n",
            "|    5776.0|     769.0|     0|\n",
            "|    5776.0|    6433.0|     0|\n",
            "|    5776.0|    5360.0|     0|\n",
            "|    5776.0|     934.0|     0|\n",
            "|    5776.0|    5983.0|     0|\n",
            "|    5776.0|    6454.0|     0|\n",
            "|    5776.0|   11757.0|     0|\n",
            "|    5776.0|     558.0|     0|\n",
            "|    5776.0|    7313.0|     0|\n",
            "+----------+----------+------+\n",
            "only showing top 20 rows\n",
            "\n"
          ]
        },
        {
          "name": "stderr",
          "output_type": "stream",
          "text": [
            "22/12/31 00:13:31 WARN DAGScheduler: Broadcasting large task binary with size 1369.6 KiB\n"
          ]
        }
      ],
      "source": [
        "user_item.show()"
      ]
    },
    {
      "cell_type": "markdown",
      "metadata": {
        "id": "KEziaFwGTfCo"
      },
      "source": [
        "Useful Function: pyspark recommandation system ML model \\\\\n",
        "Remember to set coldStartStrategy=\"nan\" to make sure model not ignore null data.\n",
        "\n",
        "Spark allows users to set the coldStartStrategy parameter to “drop” in order to drop any rows in the DataFrame of predictions that contain NaN values. The evaluation metric will then be computed over the non-NaN data and will be valid. Usage of this parameter is illustrated in the example below."
      ]
    },
    {
      "cell_type": "code",
      "execution_count": 14,
      "metadata": {
        "id": "p2D3e5lfDOCU"
      },
      "outputs": [],
      "source": [
        "# Import the required functions\n",
        "from pyspark.ml.evaluation import RegressionEvaluator\n",
        "from pyspark.ml.recommendation import ALS\n",
        "# Create ALS model\n",
        "als = ALS(\n",
        "        rank=10,\n",
        "        maxIter=10,\n",
        "        regParam=0.5,\n",
        "        userCol=\"user_index\", \n",
        "        itemCol=\"item_index\",\n",
        "        ratingCol=\"rating\", \n",
        "        nonnegative = True, \n",
        "        implicitPrefs = False,\n",
        "        coldStartStrategy=\"nan\"\n",
        ")\n",
        "NAN = 4"
      ]
    },
    {
      "cell_type": "code",
      "execution_count": 20,
      "metadata": {
        "id": "TzZu2CZ2DSeE"
      },
      "outputs": [],
      "source": [
        "# Import the requisite packages\n",
        "from pyspark.ml.evaluation import RegressionEvaluator\n",
        "from pyspark.ml.tuning import ParamGridBuilder, CrossValidator\n",
        "evaluator=RegressionEvaluator(metricName=\"rmse\",labelCol=\"rating\",predictionCol=\"prediction\")"
      ]
    },
    {
      "cell_type": "markdown",
      "metadata": {
        "id": "sk6avSaCUpzt"
      },
      "source": [
        "Useful function: fill value to NaN part \\\\\n",
        "example : \\\\\n",
        "a = a.na.fill(value=999)"
      ]
    },
    {
      "cell_type": "code",
      "execution_count": 21,
      "metadata": {
        "colab": {
          "base_uri": "https://localhost:8080/"
        },
        "id": "tGCmOyMfVGNa",
        "outputId": "92b373ea-4f32-4e75-c9d5-9f4a96f902e5"
      },
      "outputs": [
        {
          "name": "stderr",
          "output_type": "stream",
          "text": [
            "22/12/31 00:17:21 WARN DAGScheduler: Broadcasting large task binary with size 1357.1 KiB\n",
            "22/12/31 00:17:22 WARN DAGScheduler: Broadcasting large task binary with size 1360.1 KiB\n",
            "22/12/31 00:17:22 WARN DAGScheduler: Broadcasting large task binary with size 1361.6 KiB\n",
            "22/12/31 00:17:22 WARN DAGScheduler: Broadcasting large task binary with size 1362.9 KiB\n",
            "22/12/31 00:17:22 WARN DAGScheduler: Broadcasting large task binary with size 1361.8 KiB\n",
            "22/12/31 00:17:23 WARN DAGScheduler: Broadcasting large task binary with size 1363.1 KiB\n",
            "22/12/31 00:17:23 WARN DAGScheduler: Broadcasting large task binary with size 1363.9 KiB\n",
            "22/12/31 00:17:23 WARN DAGScheduler: Broadcasting large task binary with size 1367.0 KiB\n",
            "22/12/31 00:17:23 WARN DAGScheduler: Broadcasting large task binary with size 1368.4 KiB\n",
            "22/12/31 00:17:23 WARN DAGScheduler: Broadcasting large task binary with size 1369.7 KiB\n",
            "22/12/31 00:17:23 WARN DAGScheduler: Broadcasting large task binary with size 1371.1 KiB\n",
            "22/12/31 00:17:23 WARN DAGScheduler: Broadcasting large task binary with size 1372.5 KiB\n",
            "22/12/31 00:17:24 WARN DAGScheduler: Broadcasting large task binary with size 1373.9 KiB\n",
            "22/12/31 00:17:24 WARN DAGScheduler: Broadcasting large task binary with size 1375.2 KiB\n",
            "22/12/31 00:17:24 WARN DAGScheduler: Broadcasting large task binary with size 1376.6 KiB\n",
            "22/12/31 00:17:24 WARN DAGScheduler: Broadcasting large task binary with size 1378.0 KiB\n",
            "22/12/31 00:17:24 WARN DAGScheduler: Broadcasting large task binary with size 1379.3 KiB\n",
            "22/12/31 00:17:24 WARN DAGScheduler: Broadcasting large task binary with size 1380.7 KiB\n",
            "22/12/31 00:17:24 WARN DAGScheduler: Broadcasting large task binary with size 1382.1 KiB\n",
            "22/12/31 00:17:24 WARN DAGScheduler: Broadcasting large task binary with size 1383.5 KiB\n",
            "22/12/31 00:17:24 WARN DAGScheduler: Broadcasting large task binary with size 1384.8 KiB\n",
            "22/12/31 00:17:24 WARN DAGScheduler: Broadcasting large task binary with size 1386.2 KiB\n",
            "22/12/31 00:17:25 WARN DAGScheduler: Broadcasting large task binary with size 1387.6 KiB\n",
            "22/12/31 00:17:25 WARN DAGScheduler: Broadcasting large task binary with size 1388.9 KiB\n",
            "22/12/31 00:17:25 WARN DAGScheduler: Broadcasting large task binary with size 1390.3 KiB\n",
            "22/12/31 00:17:25 WARN DAGScheduler: Broadcasting large task binary with size 1391.7 KiB\n",
            "22/12/31 00:17:25 WARN DAGScheduler: Broadcasting large task binary with size 1393.6 KiB\n",
            "22/12/31 00:17:25 WARN DAGScheduler: Broadcasting large task binary with size 1392.3 KiB\n",
            "22/12/31 00:17:26 WARN DAGScheduler: Broadcasting large task binary with size 1401.7 KiB\n",
            "22/12/31 00:17:26 WARN DAGScheduler: Broadcasting large task binary with size 1354.0 KiB\n",
            "22/12/31 00:17:26 WARN DAGScheduler: Broadcasting large task binary with size 1400.4 KiB\n",
            "22/12/31 00:17:27 WARN DAGScheduler: Broadcasting large task binary with size 1422.7 KiB\n",
            "22/12/31 00:17:29 WARN DAGScheduler: Broadcasting large task binary with size 1443.0 KiB\n",
            "[Stage 150:=================================================>  (189 + 11) / 200]\r"
          ]
        },
        {
          "name": "stdout",
          "output_type": "stream",
          "text": [
            "1.2304833165796725\n"
          ]
        },
        {
          "name": "stderr",
          "output_type": "stream",
          "text": [
            "22/12/31 00:17:31 WARN DAGScheduler: Broadcasting large task binary with size 1443.9 KiB\n",
            "                                                                                \r"
          ]
        }
      ],
      "source": [
        "#Fit cross validator to the 'train' dataset\n",
        "model = als.fit(train)\n",
        "#model = cv.fit(train)\n",
        "#best_model = model.bestModel\n",
        "\n",
        "# View the predictions\n",
        "test_predictions = model.transform(test)\n",
        "#test_predictions = best_model.transform(test)\n",
        "# remember to fix nan in prediction\n",
        "test_predictions=test_predictions.na.fill(value=NAN)\n",
        "\n",
        "RMSE = evaluator.evaluate(test_predictions)\n",
        "print(RMSE)"
      ]
    },
    {
      "cell_type": "code",
      "execution_count": 22,
      "metadata": {
        "id": "AJPyjJej7wll"
      },
      "outputs": [],
      "source": [
        "df_public = spark.read.csv('./test_public.csv',header=True,inferSchema=True)\n",
        "df_public_ID = pipeline.fit(df_public).transform(df_public)"
      ]
    },
    {
      "cell_type": "code",
      "execution_count": 23,
      "metadata": {
        "colab": {
          "base_uri": "https://localhost:8080/"
        },
        "id": "X3tILkElIdw9",
        "outputId": "b4439649-a8cc-4954-cee4-429a85bbb2e0"
      },
      "outputs": [
        {
          "name": "stderr",
          "output_type": "stream",
          "text": [
            "22/12/31 00:17:31 WARN DAGScheduler: Broadcasting large task binary with size 1345.7 KiB\n",
            "22/12/31 00:17:31 WARN DAGScheduler: Broadcasting large task binary with size 1401.7 KiB\n",
            "22/12/31 00:17:31 WARN DAGScheduler: Broadcasting large task binary with size 1400.4 KiB\n",
            "22/12/31 00:17:32 WARN DAGScheduler: Broadcasting large task binary with size 1575.0 KiB\n",
            "22/12/31 00:17:34 WARN DAGScheduler: Broadcasting large task binary with size 1594.9 KiB\n",
            "22/12/31 00:17:36 WARN DAGScheduler: Broadcasting large task binary with size 1595.8 KiB\n",
            "                                                                                \r"
          ]
        },
        {
          "name": "stdout",
          "output_type": "stream",
          "text": [
            "RMSE=1.2254533350717227\n"
          ]
        },
        {
          "name": "stderr",
          "output_type": "stream",
          "text": [
            "22/12/31 00:17:36 WARN DAGScheduler: Broadcasting large task binary with size 1400.4 KiB\n",
            "22/12/31 00:17:36 WARN DAGScheduler: Broadcasting large task binary with size 1401.7 KiB\n",
            "22/12/31 00:17:36 WARN DAGScheduler: Broadcasting large task binary with size 1346.1 KiB\n",
            "22/12/31 00:17:37 WARN DAGScheduler: Broadcasting large task binary with size 1576.0 KiB\n",
            "[Stage 209:===============================================>    (182 + 16) / 200]\r"
          ]
        },
        {
          "name": "stdout",
          "output_type": "stream",
          "text": [
            "+----------+--------------+------+----------+----------+----------+\n",
            "|      item|          user|rating|item_index|user_index|prediction|\n",
            "+----------+--------------+------+----------+----------+----------+\n",
            "|B000SQTJJO|A31BD4RXCON7QO|     4|     148.0|    7634.0| 3.4450731|\n",
            "|B000SQTJJO|A2TTHN1UMO82VY|     5|     148.0|     329.0| 3.5525923|\n",
            "|B000SQTJJO|A3LUYUZNKG378S|     5|     148.0|   12556.0| 4.1586866|\n",
            "|B000SQTJJO|A1RF9YK4BK5TRH|     3|     148.0|     206.0|  3.292471|\n",
            "|B000SQTJJO|A265B1IZE5RVG6|     2|     148.0|     429.0| 3.5757942|\n",
            "|B000SQTJJO| A2W34ZSDBOPC6|     4|     148.0|   11665.0|  4.175356|\n",
            "|B000SQTJJO|A3DYBTW1TEZL3M|     4|     148.0|    1725.0| 4.1937737|\n",
            "|B000SQTJJO|A2HELIKP5RV27F|     4|     148.0|     695.0| 3.5518086|\n",
            "|B000SQTJJO|A3J2YU2D9BH2J7|     4|     148.0|    8079.0|  3.588092|\n",
            "|B000SQTJJO|A1YCWZWOXLUAY5|     5|     148.0|   14912.0|       4.0|\n",
            "|B000SQTJJO| AQFFA5JFDLQRS|     1|     148.0|   13656.0| 2.9760876|\n",
            "|B000SQTJJO|A2M0RGVSV6YCMZ|     4|     148.0|    4599.0|  3.601359|\n",
            "|B000SQTJJO|A2065HBMYDXJ1S|     3|     148.0|      29.0| 3.5952232|\n",
            "|B000SQTJJO|A17437N1L775IJ|     4|     148.0|    1465.0| 3.9412987|\n",
            "|B000SQTJJO|A1RIU1AAU4ZPEC|     1|     148.0|   10299.0| 3.0508318|\n",
            "|B000SQTJJO| AY1I85LLDMETC|     4|     148.0|    1879.0| 3.6905727|\n",
            "|B000SQTJJO| AZECTOVTVA5Z4|     4|     148.0|   13974.0| 3.5253327|\n",
            "|B000SQTJJO|A2IJ54FX1L83WK|     4|     148.0|     208.0| 3.9424765|\n",
            "|B00000GBQJ|A1N7BFJSBP75A8|     5|     463.0|   10161.0| 3.5867653|\n",
            "|B00000GBQJ| ARF6NZ2PH6MCB|     5|     463.0|   17323.0|  4.127616|\n",
            "+----------+--------------+------+----------+----------+----------+\n",
            "only showing top 20 rows\n",
            "\n"
          ]
        },
        {
          "name": "stderr",
          "output_type": "stream",
          "text": [
            "22/12/31 00:17:39 WARN DAGScheduler: Broadcasting large task binary with size 1591.6 KiB\n",
            "                                                                                \r"
          ]
        }
      ],
      "source": [
        "evaluator=RegressionEvaluator(metricName=\"rmse\",labelCol=\"rating\",predictionCol=\"prediction\")\n",
        "predictions=model.transform(df_public_ID)\n",
        "\n",
        "# remember to fix nan in prediction\n",
        "predictions=predictions.na.fill(value=NAN)\n",
        "\n",
        "rmse=evaluator.evaluate(predictions)\n",
        "print(\"RMSE=\"+str(rmse))\n",
        "predictions.show()"
      ]
    },
    {
      "cell_type": "code",
      "execution_count": 24,
      "metadata": {
        "id": "BQHjl2ohZT0b"
      },
      "outputs": [],
      "source": [
        "df_testall = spark.read.csv('./test_all.csv',header=True,inferSchema=True)\n"
      ]
    },
    {
      "cell_type": "code",
      "execution_count": 25,
      "metadata": {
        "id": "hy6mIylWZjgq"
      },
      "outputs": [],
      "source": [
        "df_test_ID = pipeline.fit(df_testall).transform(df_testall)"
      ]
    },
    {
      "cell_type": "code",
      "execution_count": 26,
      "metadata": {
        "colab": {
          "base_uri": "https://localhost:8080/"
        },
        "id": "W_4uSA07ZzbM",
        "outputId": "4d84d125-4e83-4a0f-9c1e-76f2cdb213f0"
      },
      "outputs": [
        {
          "name": "stdout",
          "output_type": "stream",
          "text": [
            "root\n",
            " |-- item: string (nullable = true)\n",
            " |-- user: string (nullable = true)\n",
            " |-- item_index: double (nullable = false)\n",
            " |-- user_index: double (nullable = false)\n",
            "\n"
          ]
        }
      ],
      "source": [
        "df_test_ID.printSchema()"
      ]
    },
    {
      "cell_type": "code",
      "execution_count": 27,
      "metadata": {
        "colab": {
          "base_uri": "https://localhost:8080/"
        },
        "id": "KfPhg1ywoNu-",
        "outputId": "810f2e3f-bfa0-4301-90e3-0f6c4b18aa68"
      },
      "outputs": [
        {
          "name": "stderr",
          "output_type": "stream",
          "text": [
            "22/12/31 00:17:40 WARN DAGScheduler: Broadcasting large task binary with size 1356.2 KiB\n",
            "[Stage 213:>                                                        (0 + 1) / 1]\r"
          ]
        },
        {
          "name": "stdout",
          "output_type": "stream",
          "text": [
            "+-------+--------------------+--------------------+------------------+-----------------+\n",
            "|summary|                item|                user|        item_index|       user_index|\n",
            "+-------+--------------------+--------------------+------------------+-----------------+\n",
            "|  count|               83799|               83799|             83799|            83799|\n",
            "|   mean|2.1813556526264625E9|                null|3844.3237150801324|8276.219012160049|\n",
            "| stddev|2.1882518602245975E9|                null| 3647.800641218535|6463.700444398778|\n",
            "|    min|          0439893577|A012468118FTQAINE...|               0.0|              0.0|\n",
            "|    max|          B00LBI9BKA|       AZZYW4YOE1B6E|           11824.0|          19127.0|\n",
            "+-------+--------------------+--------------------+------------------+-----------------+\n",
            "\n"
          ]
        },
        {
          "name": "stderr",
          "output_type": "stream",
          "text": [
            "22/12/31 00:17:41 WARN DAGScheduler: Broadcasting large task binary with size 1357.3 KiB\n",
            "                                                                                \r"
          ]
        }
      ],
      "source": [
        "df_test_ID.describe().show()"
      ]
    },
    {
      "cell_type": "code",
      "execution_count": 28,
      "metadata": {
        "colab": {
          "base_uri": "https://localhost:8080/"
        },
        "id": "CQ0VXEjAd3aM",
        "outputId": "38470c11-08a8-4086-d67c-233d8691227e"
      },
      "outputs": [
        {
          "name": "stdout",
          "output_type": "stream",
          "text": [
            "+----------+--------------+----------+----------+\n",
            "|      item|          user|item_index|user_index|\n",
            "+----------+--------------+----------+----------+\n",
            "|B0015FRC32|A28QKOPBDPSHE5|   10076.0|   10890.0|\n",
            "|B000EUKRY0|A1PTTEYFE49BQM|     104.0|    6406.0|\n",
            "|B007XPLI56|A2C5VTBNC6I5MY|     404.0|   15278.0|\n",
            "|B003A5RTHO|A12IOCD2A7OC7K|    6845.0|    2525.0|\n",
            "|B006HCVT5A|A3ISFBZ5UFK81I|    3045.0|   16376.0|\n",
            "|B004GXIDYM|A34BONVNM07TRG|    2537.0|   18436.0|\n",
            "|B004R1ZUNA| A3Y0IB3VYLD6A|     297.0|    5296.0|\n",
            "|B0006IRTU0|A2CYXQOAR1EJRQ|     471.0|   18105.0|\n",
            "|B00A88EPCI|A3L249C56OJI7D|     838.0|    8140.0|\n",
            "|B00428LJ06|A1MLBMJSFK6BIJ|     142.0|    6338.0|\n",
            "|B0002BSTY6|A194UXXKM11698|    7919.0|    1160.0|\n",
            "|B000IBPD76| ARSNAGZWXP7GN|      39.0|   13708.0|\n",
            "|B000TK8440|A35B72PSA30R67|     183.0|    1699.0|\n",
            "|B000EQGT00|A304ILYRZ145SI|     135.0|     710.0|\n",
            "|B00005YVRN|A3118YKNMNAS33|     134.0|    2209.0|\n",
            "|B0027FFMBS|A3LHE5MHDF7X2R|   11442.0|   12545.0|\n",
            "|B00AAPHZVW| ANOST6C92T7HB|     557.0|   18970.0|\n",
            "|B0040GK7NK| AR3EVUQF0AC7R|    1901.0|    1433.0|\n",
            "|B0063NC3N0|A3AZPAZXGOD4VL|    1495.0|   16190.0|\n",
            "|B008R3RPDW|A3J1CEZ30ZOJ7S|   10908.0|   16383.0|\n",
            "+----------+--------------+----------+----------+\n",
            "only showing top 20 rows\n",
            "\n"
          ]
        },
        {
          "name": "stderr",
          "output_type": "stream",
          "text": [
            "22/12/31 00:17:41 WARN DAGScheduler: Broadcasting large task binary with size 1185.5 KiB\n"
          ]
        }
      ],
      "source": [
        "df_test_ID.show()"
      ]
    },
    {
      "cell_type": "code",
      "execution_count": 29,
      "metadata": {
        "id": "8E8jbQAwZqdi"
      },
      "outputs": [],
      "source": [
        "testall_predictions=model.transform(df_test_ID)"
      ]
    },
    {
      "cell_type": "code",
      "execution_count": 30,
      "metadata": {
        "colab": {
          "base_uri": "https://localhost:8080/"
        },
        "id": "nwWnlbaWcsky",
        "outputId": "2d937a02-48fa-4e95-8657-569454faedf9"
      },
      "outputs": [
        {
          "name": "stdout",
          "output_type": "stream",
          "text": [
            "root\n",
            " |-- item: string (nullable = true)\n",
            " |-- user: string (nullable = true)\n",
            " |-- item_index: double (nullable = false)\n",
            " |-- user_index: double (nullable = false)\n",
            " |-- prediction: float (nullable = false)\n",
            "\n"
          ]
        }
      ],
      "source": [
        "testall_predictions.printSchema()"
      ]
    },
    {
      "cell_type": "code",
      "execution_count": 31,
      "metadata": {
        "colab": {
          "base_uri": "https://localhost:8080/"
        },
        "id": "qWnKzFFuoWbP",
        "outputId": "1026981b-5aba-41f0-b179-b4cf934ab2b8"
      },
      "outputs": [
        {
          "name": "stderr",
          "output_type": "stream",
          "text": [
            "22/12/31 00:17:42 WARN DAGScheduler: Broadcasting large task binary with size 1400.4 KiB\n",
            "22/12/31 00:17:42 WARN DAGScheduler: Broadcasting large task binary with size 1345.7 KiB\n",
            "22/12/31 00:17:42 WARN DAGScheduler: Broadcasting large task binary with size 1401.7 KiB\n",
            "22/12/31 00:17:42 WARN DAGScheduler: Broadcasting large task binary with size 1575.4 KiB\n",
            "22/12/31 00:17:45 WARN DAGScheduler: Broadcasting large task binary with size 1602.5 KiB\n",
            "[Stage 243:================================================>   (188 + 12) / 200]\r"
          ]
        },
        {
          "name": "stdout",
          "output_type": "stream",
          "text": [
            "+-------+--------------------+--------------------+------------------+-----------------+----------+\n",
            "|summary|                item|                user|        item_index|       user_index|prediction|\n",
            "+-------+--------------------+--------------------+------------------+-----------------+----------+\n",
            "|  count|               83799|               83799|             83799|            83799|     83799|\n",
            "|   mean|2.1813556526264625E9|                null|3844.3237150801324|8276.219012160049|       NaN|\n",
            "| stddev|2.1882518602245984E9|                null|3647.8006412185123|6463.700444398743|       NaN|\n",
            "|    min|          0439893577|A012468118FTQAINE...|               0.0|              0.0|0.07626182|\n",
            "|    max|          B00LBI9BKA|       AZZYW4YOE1B6E|           11824.0|          19127.0|       NaN|\n",
            "+-------+--------------------+--------------------+------------------+-----------------+----------+\n",
            "\n"
          ]
        },
        {
          "name": "stderr",
          "output_type": "stream",
          "text": [
            "22/12/31 00:17:47 WARN DAGScheduler: Broadcasting large task binary with size 1598.6 KiB\n",
            "                                                                                \r"
          ]
        }
      ],
      "source": [
        "testall_predictions.describe().show()"
      ]
    },
    {
      "cell_type": "code",
      "execution_count": 32,
      "metadata": {
        "colab": {
          "base_uri": "https://localhost:8080/"
        },
        "id": "N0_OXylQgCEz",
        "outputId": "aa70d863-3931-4b30-e8fb-d4951a2f447a"
      },
      "outputs": [
        {
          "name": "stderr",
          "output_type": "stream",
          "text": [
            "22/12/31 00:17:48 WARN DAGScheduler: Broadcasting large task binary with size 1401.7 KiB\n",
            "22/12/31 00:17:48 WARN DAGScheduler: Broadcasting large task binary with size 1345.7 KiB\n",
            "22/12/31 00:17:48 WARN DAGScheduler: Broadcasting large task binary with size 1400.4 KiB\n",
            "22/12/31 00:17:48 WARN DAGScheduler: Broadcasting large task binary with size 1575.6 KiB\n",
            "[Stage 270:===========================================>        (166 + 16) / 200]\r"
          ]
        },
        {
          "name": "stdout",
          "output_type": "stream",
          "text": [
            "+----------+--------------+----------+----------+----------+\n",
            "|      item|          user|item_index|user_index|prediction|\n",
            "+----------+--------------+----------+----------+----------+\n",
            "|B000SQTJJO|A31BD4RXCON7QO|     148.0|    7634.0| 3.4450731|\n",
            "|B000SQTJJO|A2TTHN1UMO82VY|     148.0|     329.0| 3.5525923|\n",
            "|B000SQTJJO|A3LUYUZNKG378S|     148.0|   12556.0| 4.1586866|\n",
            "|B000SQTJJO|A136LRUR0RDH9J|     148.0|     416.0| 3.5624144|\n",
            "|B000SQTJJO|A1O402ZP60PD04|     148.0|   14618.0|  3.698164|\n",
            "|B000SQTJJO|A186VDAIOH0CR1|     148.0|    9654.0| 3.9981563|\n",
            "|B000SQTJJO|A1RF9YK4BK5TRH|     148.0|     206.0|  3.292471|\n",
            "|B000SQTJJO|A30H2335OM7RD6|     148.0|       6.0|  4.083807|\n",
            "|B000SQTJJO|A265B1IZE5RVG6|     148.0|     429.0| 3.5757942|\n",
            "|B000SQTJJO| AOYAZN4MA0TVU|     148.0|    2458.0|  4.139878|\n",
            "|B000SQTJJO| A2W34ZSDBOPC6|     148.0|   11665.0|  4.175356|\n",
            "|B000SQTJJO|A12PN254PTSGU5|     148.0|     197.0|  3.730764|\n",
            "|B000SQTJJO|A3DYBTW1TEZL3M|     148.0|    1725.0| 4.1937737|\n",
            "|B000SQTJJO|A2HELIKP5RV27F|     148.0|     695.0| 3.5518086|\n",
            "|B000SQTJJO| A357B3PUHSVQA|     148.0|     614.0|   3.11953|\n",
            "|B000SQTJJO|A3J2YU2D9BH2J7|     148.0|    8079.0|  3.588092|\n",
            "|B000SQTJJO|A1YCWZWOXLUAY5|     148.0|   14912.0|       NaN|\n",
            "|B000SQTJJO| AQFFA5JFDLQRS|     148.0|   13656.0| 2.9760876|\n",
            "|B000SQTJJO|A2H7Y21WEYO3JQ|     148.0|   15396.0| 3.1872535|\n",
            "|B000SQTJJO|A1WSM2KPKNHC44|     148.0|   14866.0|       NaN|\n",
            "+----------+--------------+----------+----------+----------+\n",
            "only showing top 20 rows\n",
            "\n"
          ]
        },
        {
          "name": "stderr",
          "output_type": "stream",
          "text": [
            "22/12/31 00:17:51 WARN DAGScheduler: Broadcasting large task binary with size 1588.8 KiB\n",
            "                                                                                \r"
          ]
        }
      ],
      "source": [
        "testall_predictions.show()"
      ]
    },
    {
      "cell_type": "markdown",
      "metadata": {
        "id": "rlg57ZXQUN4a"
      },
      "source": [
        "Useful function: concate User Item to generate U_I column"
      ]
    },
    {
      "cell_type": "code",
      "execution_count": 33,
      "metadata": {
        "id": "ZSJrkwilc5XR"
      },
      "outputs": [],
      "source": [
        "from pyspark.sql.functions import concat, col, lit\n",
        "\n",
        "out = testall_predictions.select(concat(col(\"user\"), lit(\"_\"), col(\"item\")) , testall_predictions.prediction)"
      ]
    },
    {
      "cell_type": "code",
      "execution_count": 34,
      "metadata": {
        "colab": {
          "base_uri": "https://localhost:8080/"
        },
        "id": "Q0TjFya_fux0",
        "outputId": "76ec83d2-bcc0-4652-ab99-866c3af93204"
      },
      "outputs": [
        {
          "name": "stdout",
          "output_type": "stream",
          "text": [
            "root\n",
            " |-- concat(user, _, item): string (nullable = true)\n",
            " |-- prediction: float (nullable = false)\n",
            "\n"
          ]
        }
      ],
      "source": [
        "out.printSchema()"
      ]
    },
    {
      "cell_type": "code",
      "execution_count": 35,
      "metadata": {
        "colab": {
          "base_uri": "https://localhost:8080/"
        },
        "id": "BXfwTKKAeil_",
        "outputId": "b52fcbb7-7ec0-4bcc-c473-121de91028fe"
      },
      "outputs": [
        {
          "name": "stderr",
          "output_type": "stream",
          "text": [
            "22/12/31 00:17:52 WARN DAGScheduler: Broadcasting large task binary with size 1400.4 KiB\n",
            "22/12/31 00:17:52 WARN DAGScheduler: Broadcasting large task binary with size 1401.7 KiB\n",
            "22/12/31 00:17:52 WARN DAGScheduler: Broadcasting large task binary with size 1345.7 KiB\n",
            "22/12/31 00:17:52 WARN DAGScheduler: Broadcasting large task binary with size 1575.5 KiB\n",
            "22/12/31 00:17:55 WARN DAGScheduler: Broadcasting large task binary with size 1588.7 KiB\n"
          ]
        },
        {
          "name": "stdout",
          "output_type": "stream",
          "text": [
            "+---------------------+----------+\n",
            "|concat(user, _, item)|prediction|\n",
            "+---------------------+----------+\n",
            "| A31BD4RXCON7QO_B0...| 3.4450731|\n",
            "| A2TTHN1UMO82VY_B0...| 3.5525923|\n",
            "| A3LUYUZNKG378S_B0...| 4.1586866|\n",
            "| A136LRUR0RDH9J_B0...| 3.5624144|\n",
            "| A1O402ZP60PD04_B0...|  3.698164|\n",
            "| A186VDAIOH0CR1_B0...| 3.9981563|\n",
            "| A1RF9YK4BK5TRH_B0...|  3.292471|\n",
            "| A30H2335OM7RD6_B0...|  4.083807|\n",
            "| A265B1IZE5RVG6_B0...| 3.5757942|\n",
            "| AOYAZN4MA0TVU_B00...|  4.139878|\n",
            "| A2W34ZSDBOPC6_B00...|  4.175356|\n",
            "| A12PN254PTSGU5_B0...|  3.730764|\n",
            "| A3DYBTW1TEZL3M_B0...| 4.1937737|\n",
            "| A2HELIKP5RV27F_B0...| 3.5518086|\n",
            "| A357B3PUHSVQA_B00...|   3.11953|\n",
            "| A3J2YU2D9BH2J7_B0...|  3.588092|\n",
            "| A1YCWZWOXLUAY5_B0...|       NaN|\n",
            "| AQFFA5JFDLQRS_B00...| 2.9760876|\n",
            "| A2H7Y21WEYO3JQ_B0...| 3.1872535|\n",
            "| A1WSM2KPKNHC44_B0...|       NaN|\n",
            "+---------------------+----------+\n",
            "only showing top 20 rows\n",
            "\n"
          ]
        },
        {
          "name": "stderr",
          "output_type": "stream",
          "text": [
            "                                                                                \r"
          ]
        }
      ],
      "source": [
        "out.show()"
      ]
    },
    {
      "cell_type": "markdown",
      "metadata": {
        "id": "9UVinGYcVDPw"
      },
      "source": [
        "Remember to fix NaN value"
      ]
    },
    {
      "cell_type": "code",
      "execution_count": 36,
      "metadata": {
        "id": "HzGFQkRBqfy0"
      },
      "outputs": [],
      "source": [
        "out = out.na.fill(value=NAN)"
      ]
    },
    {
      "cell_type": "code",
      "execution_count": 37,
      "metadata": {
        "colab": {
          "base_uri": "https://localhost:8080/"
        },
        "id": "yAsXRHZyqnoz",
        "outputId": "708dc13f-2e0a-4b8c-b96d-5bf8c3ac0520"
      },
      "outputs": [
        {
          "name": "stderr",
          "output_type": "stream",
          "text": [
            "22/12/31 00:17:55 WARN DAGScheduler: Broadcasting large task binary with size 1345.7 KiB\n",
            "22/12/31 00:17:55 WARN DAGScheduler: Broadcasting large task binary with size 1401.7 KiB\n",
            "22/12/31 00:17:55 WARN DAGScheduler: Broadcasting large task binary with size 1400.4 KiB\n",
            "22/12/31 00:17:56 WARN DAGScheduler: Broadcasting large task binary with size 1575.5 KiB\n",
            "[Stage 326:==============================================>     (179 + 16) / 200]\r"
          ]
        },
        {
          "name": "stdout",
          "output_type": "stream",
          "text": [
            "+---------------------+----------+\n",
            "|concat(user, _, item)|prediction|\n",
            "+---------------------+----------+\n",
            "| A31BD4RXCON7QO_B0...| 3.4450731|\n",
            "| A2TTHN1UMO82VY_B0...| 3.5525923|\n",
            "| A3LUYUZNKG378S_B0...| 4.1586866|\n",
            "| A136LRUR0RDH9J_B0...| 3.5624144|\n",
            "| A1O402ZP60PD04_B0...|  3.698164|\n",
            "| A186VDAIOH0CR1_B0...| 3.9981563|\n",
            "| A1RF9YK4BK5TRH_B0...|  3.292471|\n",
            "| A30H2335OM7RD6_B0...|  4.083807|\n",
            "| A265B1IZE5RVG6_B0...| 3.5757942|\n",
            "| AOYAZN4MA0TVU_B00...|  4.139878|\n",
            "| A2W34ZSDBOPC6_B00...|  4.175356|\n",
            "| A12PN254PTSGU5_B0...|  3.730764|\n",
            "| A3DYBTW1TEZL3M_B0...| 4.1937737|\n",
            "| A2HELIKP5RV27F_B0...| 3.5518086|\n",
            "| A357B3PUHSVQA_B00...|   3.11953|\n",
            "| A3J2YU2D9BH2J7_B0...|  3.588092|\n",
            "| A1YCWZWOXLUAY5_B0...|       4.0|\n",
            "| AQFFA5JFDLQRS_B00...| 2.9760876|\n",
            "| A2H7Y21WEYO3JQ_B0...| 3.1872535|\n",
            "| A1WSM2KPKNHC44_B0...|       4.0|\n",
            "+---------------------+----------+\n",
            "only showing top 20 rows\n",
            "\n"
          ]
        },
        {
          "name": "stderr",
          "output_type": "stream",
          "text": [
            "22/12/31 00:17:59 WARN DAGScheduler: Broadcasting large task binary with size 1589.3 KiB\n",
            "                                                                                \r"
          ]
        }
      ],
      "source": [
        "out.show()"
      ]
    },
    {
      "cell_type": "markdown",
      "metadata": {
        "id": "WwfRsAmIVL7Q"
      },
      "source": [
        "Remember to sort by U_I before output"
      ]
    },
    {
      "cell_type": "code",
      "execution_count": 38,
      "metadata": {
        "colab": {
          "base_uri": "https://localhost:8080/"
        },
        "id": "W7I8P9brk9-1",
        "outputId": "fa4d0bd6-0ba3-421e-d804-f73511159154"
      },
      "outputs": [
        {
          "name": "stderr",
          "output_type": "stream",
          "text": [
            "22/12/31 00:17:59 WARN DAGScheduler: Broadcasting large task binary with size 1400.4 KiB\n",
            "22/12/31 00:17:59 WARN DAGScheduler: Broadcasting large task binary with size 1345.7 KiB\n",
            "22/12/31 00:17:59 WARN DAGScheduler: Broadcasting large task binary with size 1401.7 KiB\n",
            "22/12/31 00:17:59 WARN DAGScheduler: Broadcasting large task binary with size 1575.5 KiB\n",
            "22/12/31 00:18:02 WARN DAGScheduler: Broadcasting large task binary with size 1590.5 KiB\n",
            "[Stage 356:===============================================>    (184 + 16) / 200]\r"
          ]
        },
        {
          "name": "stdout",
          "output_type": "stream",
          "text": [
            "+---------------------+----------+\n",
            "|concat(user, _, item)|prediction|\n",
            "+---------------------+----------+\n",
            "| A012468118FTQAINE...|  4.898326|\n",
            "| A012468118FTQAINE...|  4.379926|\n",
            "| A012468118FTQAINE...|  4.422153|\n",
            "| A0182108CPDLPRCXQ...| 4.1164804|\n",
            "| A0182108CPDLPRCXQ...|  4.370185|\n",
            "| A0182108CPDLPRCXQ...|   2.74712|\n",
            "| A026961431MGW0616...| 3.0008144|\n",
            "| A026961431MGW0616...| 4.5930495|\n",
            "| A026961431MGW0616...| 4.5739236|\n",
            "| A034597326Z83X79S...| 4.3332458|\n",
            "| A034597326Z83X79S...| 3.7739987|\n",
            "| A034597326Z83X79S...|  4.145909|\n",
            "| A034597326Z83X79S...|  4.499639|\n",
            "| A04295422T2ZG087R...| 2.0688186|\n",
            "| A04295422T2ZG087R...|  3.295319|\n",
            "| A060131923OZAPX4N...| 3.2827764|\n",
            "| A060131923OZAPX4N...| 3.4026582|\n",
            "| A060131923OZAPX4N...|  3.280408|\n",
            "| A060131923OZAPX4N...| 3.6716383|\n",
            "| A060131923OZAPX4N...| 2.9511797|\n",
            "+---------------------+----------+\n",
            "only showing top 20 rows\n",
            "\n"
          ]
        },
        {
          "name": "stderr",
          "output_type": "stream",
          "text": [
            "                                                                                \r"
          ]
        }
      ],
      "source": [
        "out.orderBy(\"concat(user, _, item)\").show()"
      ]
    },
    {
      "cell_type": "code",
      "execution_count": 39,
      "metadata": {},
      "outputs": [
        {
          "name": "stderr",
          "output_type": "stream",
          "text": [
            "22/12/31 00:18:03 WARN DAGScheduler: Broadcasting large task binary with size 1400.4 KiB\n",
            "22/12/31 00:18:03 WARN DAGScheduler: Broadcasting large task binary with size 1401.7 KiB\n",
            "22/12/31 00:18:03 WARN DAGScheduler: Broadcasting large task binary with size 1345.7 KiB\n",
            "22/12/31 00:18:04 WARN DAGScheduler: Broadcasting large task binary with size 1575.5 KiB\n",
            "[Stage 383:==============================================>     (178 + 16) / 200]\r"
          ]
        },
        {
          "name": "stdout",
          "output_type": "stream",
          "text": [
            "+--------------------+---------+\n",
            "|                 U_I|   rating|\n",
            "+--------------------+---------+\n",
            "|A31BD4RXCON7QO_B0...|3.4450731|\n",
            "|A2TTHN1UMO82VY_B0...|3.5525923|\n",
            "|A3LUYUZNKG378S_B0...|4.1586866|\n",
            "|A136LRUR0RDH9J_B0...|3.5624144|\n",
            "|A1O402ZP60PD04_B0...| 3.698164|\n",
            "|A186VDAIOH0CR1_B0...|3.9981563|\n",
            "|A1RF9YK4BK5TRH_B0...| 3.292471|\n",
            "|A30H2335OM7RD6_B0...| 4.083807|\n",
            "|A265B1IZE5RVG6_B0...|3.5757942|\n",
            "|AOYAZN4MA0TVU_B00...| 4.139878|\n",
            "|A2W34ZSDBOPC6_B00...| 4.175356|\n",
            "|A12PN254PTSGU5_B0...| 3.730764|\n",
            "|A3DYBTW1TEZL3M_B0...|4.1937737|\n",
            "|A2HELIKP5RV27F_B0...|3.5518086|\n",
            "|A357B3PUHSVQA_B00...|  3.11953|\n",
            "|A3J2YU2D9BH2J7_B0...| 3.588092|\n",
            "|A1YCWZWOXLUAY5_B0...|      4.0|\n",
            "|AQFFA5JFDLQRS_B00...|2.9760876|\n",
            "|A2H7Y21WEYO3JQ_B0...|3.1872535|\n",
            "|A1WSM2KPKNHC44_B0...|      4.0|\n",
            "+--------------------+---------+\n",
            "only showing top 20 rows\n",
            "\n"
          ]
        },
        {
          "name": "stderr",
          "output_type": "stream",
          "text": [
            "22/12/31 00:18:07 WARN DAGScheduler: Broadcasting large task binary with size 1589.3 KiB\n",
            "                                                                                \r"
          ]
        }
      ],
      "source": [
        "out.withColumnRenamed('concat(user, _, item)', 'U_I').withColumnRenamed('prediction', 'rating').show()"
      ]
    },
    {
      "cell_type": "code",
      "execution_count": 40,
      "metadata": {
        "id": "kmZMGab8dRE9"
      },
      "outputs": [
        {
          "name": "stderr",
          "output_type": "stream",
          "text": [
            "22/12/31 00:18:07 WARN DAGScheduler: Broadcasting large task binary with size 1400.4 KiB\n",
            "22/12/31 00:18:07 WARN DAGScheduler: Broadcasting large task binary with size 1401.7 KiB\n",
            "22/12/31 00:18:07 WARN DAGScheduler: Broadcasting large task binary with size 1345.7 KiB\n",
            "22/12/31 00:18:08 WARN DAGScheduler: Broadcasting large task binary with size 1575.5 KiB\n",
            "22/12/31 00:18:10 WARN DAGScheduler: Broadcasting large task binary with size 1590.5 KiB\n",
            "22/12/31 00:18:12 WARN DAGScheduler: Broadcasting large task binary with size 1602.9 KiB\n",
            "22/12/31 00:18:14 WARN DAGScheduler: Broadcasting large task binary with size 1728.3 KiB\n",
            "                                                                                \r"
          ]
        }
      ],
      "source": [
        "out.withColumnRenamed('concat(user, _, item)', 'U_I').withColumnRenamed('prediction', 'rating').orderBy(\"U_I\").coalesce(1).write.format(\"csv\").mode('overwrite').save(\"./sample_submission.csv\", header='true')"
      ]
    },
    {
      "cell_type": "code",
      "execution_count": null,
      "metadata": {},
      "outputs": [],
      "source": []
    },
    {
      "cell_type": "code",
      "execution_count": null,
      "metadata": {},
      "outputs": [],
      "source": []
    }
  ],
  "metadata": {
    "colab": {
      "provenance": []
    },
    "kernelspec": {
      "display_name": "env01",
      "language": "python",
      "name": "python3"
    },
    "language_info": {
      "codemirror_mode": {
        "name": "ipython",
        "version": 3
      },
      "file_extension": ".py",
      "mimetype": "text/x-python",
      "name": "python",
      "nbconvert_exporter": "python",
      "pygments_lexer": "ipython3",
      "version": "3.10.6"
    },
    "vscode": {
      "interpreter": {
        "hash": "0c033e5dad2510df6dec9034148f72031436d2aa7a218f3c2f3f9247855f6d2e"
      }
    }
  },
  "nbformat": 4,
  "nbformat_minor": 0
}
