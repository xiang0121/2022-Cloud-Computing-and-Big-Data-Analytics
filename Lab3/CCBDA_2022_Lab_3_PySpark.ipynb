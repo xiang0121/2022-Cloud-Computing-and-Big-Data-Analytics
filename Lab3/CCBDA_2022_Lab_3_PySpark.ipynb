{
  "nbformat": 4,
  "nbformat_minor": 0,
  "metadata": {
    "colab": {
      "provenance": []
    },
    "kernelspec": {
      "name": "python3",
      "display_name": "Python 3"
    },
    "language_info": {
      "name": "python"
    }
  },
  "cells": [
    {
      "cell_type": "markdown",
      "source": [
        "# PySpark Warmup"
      ],
      "metadata": {
        "id": "JGnRvEFTWUfi"
      }
    },
    {
      "cell_type": "markdown",
      "source": [
        "## Installation for PySpark\n",
        "\n",
        "\n"
      ],
      "metadata": {
        "id": "wOPY4_9dWehg"
      }
    },
    {
      "cell_type": "code",
      "source": [
        "!apt-get -y install openjdk-8-jre-headless\n",
        "!pip install pyspark==3.0.1"
      ],
      "metadata": {
        "id": "otxq_oDFWd0S"
      },
      "execution_count": null,
      "outputs": []
    },
    {
      "cell_type": "markdown",
      "metadata": {
        "id": "11GHuwQNNnOI"
      },
      "source": [
        "#### Start a simple Spark Session"
      ]
    },
    {
      "cell_type": "code",
      "metadata": {
        "id": "f-a5o5sQ_ZgF"
      },
      "source": [
        "import pyspark\n",
        "from pyspark.sql import SparkSession\n",
        "from pyspark.sql.types import StringType,StructType,IntegerType,StructField\n",
        "spark = SparkSession.builder.appName('Lab3').getOrCreate()"
      ],
      "execution_count": 2,
      "outputs": []
    },
    {
      "cell_type": "markdown",
      "metadata": {
        "id": "k3JX8kmDNudQ"
      },
      "source": [
        "Data Schema"
      ]
    },
    {
      "cell_type": "code",
      "metadata": {
        "id": "3GY9sp5I5bnD"
      },
      "source": [
        "data_schema = [StructField('age',IntegerType(),True),\n",
        "              StructField('name',StringType(),True)]\n",
        "final_struc = StructType(fields=data_schema)\n"
      ],
      "execution_count": 3,
      "outputs": []
    },
    {
      "cell_type": "markdown",
      "metadata": {
        "id": "9962yCcqODQY"
      },
      "source": [
        "Load the people.json gile, have Spark infer the data types."
      ]
    },
    {
      "cell_type": "code",
      "metadata": {
        "id": "mdXIPRDhNiqz"
      },
      "source": [
        "df = spark.read.json('people.json',schema=final_struc)"
      ],
      "execution_count": 4,
      "outputs": []
    },
    {
      "cell_type": "markdown",
      "metadata": {
        "id": "xhbCvaK3O0Kc"
      },
      "source": [
        "#### What are the column names?"
      ]
    },
    {
      "cell_type": "code",
      "metadata": {
        "id": "6Hj4NFfg5bnE",
        "colab": {
          "base_uri": "https://localhost:8080/"
        },
        "outputId": "611750da-3ab9-4550-856a-b642ce5e8c8c"
      },
      "source": [
        "df.columns"
      ],
      "execution_count": 5,
      "outputs": [
        {
          "output_type": "execute_result",
          "data": {
            "text/plain": [
              "['age', 'name']"
            ]
          },
          "metadata": {},
          "execution_count": 5
        }
      ]
    },
    {
      "cell_type": "markdown",
      "metadata": {
        "id": "DtAfnmz-O8Zz"
      },
      "source": [
        "#### What is the schema?"
      ]
    },
    {
      "cell_type": "code",
      "metadata": {
        "id": "d6q1-wnJO9wM",
        "colab": {
          "base_uri": "https://localhost:8080/"
        },
        "outputId": "cbf5e8c4-cb63-43fb-805b-fe477dc39191"
      },
      "source": [
        "df.printSchema()"
      ],
      "execution_count": 6,
      "outputs": [
        {
          "output_type": "stream",
          "name": "stdout",
          "text": [
            "root\n",
            " |-- age: integer (nullable = true)\n",
            " |-- name: string (nullable = true)\n",
            "\n"
          ]
        }
      ]
    },
    {
      "cell_type": "markdown",
      "metadata": {
        "id": "uf1e8v8NPGDR"
      },
      "source": [
        "Show whole DataFrame "
      ]
    },
    {
      "cell_type": "code",
      "metadata": {
        "id": "OTKCp3DkPGdB",
        "colab": {
          "base_uri": "https://localhost:8080/"
        },
        "outputId": "2e2927e4-8b86-4fb6-f5ec-505df9c2964e"
      },
      "source": [
        "df.show()\n"
      ],
      "execution_count": 7,
      "outputs": [
        {
          "output_type": "stream",
          "name": "stdout",
          "text": [
            "+----+-------+\n",
            "| age|   name|\n",
            "+----+-------+\n",
            "|null|Michael|\n",
            "|  30|   Andy|\n",
            "|  19| Justin|\n",
            "+----+-------+\n",
            "\n"
          ]
        }
      ]
    },
    {
      "cell_type": "markdown",
      "metadata": {
        "id": "g02HDXuhPRSB"
      },
      "source": [
        "Print out the first 2 rows."
      ]
    },
    {
      "cell_type": "code",
      "metadata": {
        "id": "EjRovtRqPTf6",
        "colab": {
          "base_uri": "https://localhost:8080/"
        },
        "outputId": "608a1057-6eaf-4aa1-9a92-17f8c6d52f69"
      },
      "source": [
        "# Didn't strictly need a for loop, could have just then head()\n",
        "for row in df.head(2):\n",
        "    print(row)"
      ],
      "execution_count": 11,
      "outputs": [
        {
          "output_type": "stream",
          "name": "stdout",
          "text": [
            "Row(age=None, name='Michael')\n",
            "Row(age=30, name='Andy')\n"
          ]
        }
      ]
    },
    {
      "cell_type": "markdown",
      "metadata": {
        "id": "5GsRKjq4Pb3c"
      },
      "source": [
        "Use describe() to learn about the DataFrame"
      ]
    },
    {
      "cell_type": "code",
      "metadata": {
        "id": "hHCzibjUPdrM",
        "colab": {
          "base_uri": "https://localhost:8080/"
        },
        "outputId": "392f402a-62dd-44ca-d8c2-39d1ea66fb44"
      },
      "source": [
        "df.describe()"
      ],
      "execution_count": 12,
      "outputs": [
        {
          "output_type": "execute_result",
          "data": {
            "text/plain": [
              "DataFrame[summary: string, age: string, name: string]"
            ]
          },
          "metadata": {},
          "execution_count": 12
        }
      ]
    },
    {
      "cell_type": "markdown",
      "metadata": {
        "id": "EIiSknW9P-5D"
      },
      "source": [
        "Use another data frame to learn about the statistical report"
      ]
    },
    {
      "cell_type": "code",
      "metadata": {
        "id": "MyCnoHfEP8zi",
        "colab": {
          "base_uri": "https://localhost:8080/"
        },
        "outputId": "6abc8a43-b687-43e9-a658-2528f1da9a75"
      },
      "source": [
        "temp = df.describe()\n",
        "temp.show()"
      ],
      "execution_count": 13,
      "outputs": [
        {
          "output_type": "stream",
          "name": "stdout",
          "text": [
            "+-------+------------------+-------+\n",
            "|summary|               age|   name|\n",
            "+-------+------------------+-------+\n",
            "|  count|                 2|      3|\n",
            "|   mean|              24.5|   null|\n",
            "| stddev|7.7781745930520225|   null|\n",
            "|    min|                19|   Andy|\n",
            "|    max|                30|Michael|\n",
            "+-------+------------------+-------+\n",
            "\n"
          ]
        }
      ]
    },
    {
      "cell_type": "markdown",
      "metadata": {
        "id": "NWFzUNzLRrRc"
      },
      "source": [
        "Get the mean of age directly"
      ]
    },
    {
      "cell_type": "code",
      "metadata": {
        "id": "F7OkBnMZ5bnF",
        "colab": {
          "base_uri": "https://localhost:8080/"
        },
        "outputId": "3617f80d-6259-45af-afe3-5fe42a6c9faf"
      },
      "source": [
        "from pyspark.sql.functions import mean\n",
        "df.select(mean(\"age\")).show()"
      ],
      "execution_count": 16,
      "outputs": [
        {
          "output_type": "stream",
          "name": "stdout",
          "text": [
            "+--------+\n",
            "|avg(age)|\n",
            "+--------+\n",
            "|    24.5|\n",
            "+--------+\n",
            "\n"
          ]
        }
      ]
    },
    {
      "cell_type": "markdown",
      "metadata": {
        "id": "0sZSs0YeSpuS"
      },
      "source": [
        "What is the max and min of the Volume column?"
      ]
    },
    {
      "cell_type": "code",
      "metadata": {
        "id": "YSpUUJaSSrxd",
        "colab": {
          "base_uri": "https://localhost:8080/"
        },
        "outputId": "8731d750-395a-49e3-f97a-9ee39fd77c12"
      },
      "source": [
        "# Could have also used describe\n",
        "from pyspark.sql.functions import max,min\n",
        "df.select(max(\"age\"),min(\"age\")).show()"
      ],
      "execution_count": 17,
      "outputs": [
        {
          "output_type": "stream",
          "name": "stdout",
          "text": [
            "+--------+--------+\n",
            "|max(age)|min(age)|\n",
            "+--------+--------+\n",
            "|      30|      19|\n",
            "+--------+--------+\n",
            "\n"
          ]
        }
      ]
    },
    {
      "cell_type": "markdown",
      "metadata": {
        "id": "7E2XNGa_S1iA"
      },
      "source": [
        "How many days was the age smaller than 30?"
      ]
    },
    {
      "cell_type": "code",
      "metadata": {
        "id": "TVsXwce9S1vP",
        "colab": {
          "base_uri": "https://localhost:8080/"
        },
        "outputId": "9f198a7a-cd0e-460b-b804-a918bc2aade4"
      },
      "source": [
        "df.filter(\"age < 30\").count()"
      ],
      "execution_count": 18,
      "outputs": [
        {
          "output_type": "execute_result",
          "data": {
            "text/plain": [
              "1"
            ]
          },
          "metadata": {},
          "execution_count": 18
        }
      ]
    },
    {
      "cell_type": "code",
      "metadata": {
        "id": "25qMbjf-TKtH",
        "colab": {
          "base_uri": "https://localhost:8080/"
        },
        "outputId": "a48e1100-2c94-4d6b-e401-be3cf0190cd6"
      },
      "source": [
        "from pyspark.sql.functions import count\n",
        "result = df.filter(df['age'] < 30)\n",
        "result.select(count('age')).show()"
      ],
      "execution_count": 19,
      "outputs": [
        {
          "output_type": "stream",
          "name": "stdout",
          "text": [
            "+----------+\n",
            "|count(age)|\n",
            "+----------+\n",
            "|         1|\n",
            "+----------+\n",
            "\n"
          ]
        }
      ]
    },
    {
      "cell_type": "markdown",
      "source": [
        "# PySpark Exercise\n",
        "\n",
        "Let's get some quick practice with your new Spark DataFrame skills, you will be asked some basic questions about some stock market data, in this case Walmart Stock from the years 2012-2017. This exercise will just ask a bunch of questions, unlike the future machine learning exercises, which will be a little looser and be in the form of \"Consulting Projects\", but more on that later!\n",
        "\n",
        "For now, just answer the questions and complete the tasks below.\n",
        "\n",
        "#### [Hint](https://spark.apache.org/docs/3.0.1/api/python/index.html)\n",
        "\n",
        "#### Use the walmart_stock.csv file to Answer and complete the  tasks below!"
      ],
      "metadata": {
        "id": "_LRBBzbTXm6h"
      }
    },
    {
      "cell_type": "markdown",
      "metadata": {
        "id": "0by0I8LWwFuy"
      },
      "source": [
        "#### Load the Walmart Stock CSV File, have Spark infer the data types."
      ]
    },
    {
      "cell_type": "code",
      "metadata": {
        "collapsed": true,
        "id": "tpyyb1u5wFuy"
      },
      "source": [
        "df = spark.read.csv('/content/walmart_stock.csv',header=True,inferSchema=True)"
      ],
      "execution_count": 20,
      "outputs": []
    },
    {
      "cell_type": "markdown",
      "metadata": {
        "id": "9XfzJNyEwFuy"
      },
      "source": [
        "#### What are the column names?"
      ]
    },
    {
      "cell_type": "code",
      "metadata": {
        "id": "D5Wdw6k5wFuz",
        "colab": {
          "base_uri": "https://localhost:8080/"
        },
        "outputId": "8c456963-c14b-4546-890f-c919beabdb3a"
      },
      "source": [],
      "execution_count": null,
      "outputs": [
        {
          "output_type": "execute_result",
          "data": {
            "text/plain": [
              "['Date', 'Open', 'High', 'Low', 'Close', 'Volume', 'Adj Close']"
            ]
          },
          "metadata": {
            "tags": []
          },
          "execution_count": 29
        }
      ]
    },
    {
      "cell_type": "markdown",
      "metadata": {
        "id": "5nnDfs-YwFu0"
      },
      "source": [
        "#### What does the Schema look like?"
      ]
    },
    {
      "cell_type": "code",
      "metadata": {
        "id": "kDIkKcmzwFu0",
        "colab": {
          "base_uri": "https://localhost:8080/"
        },
        "outputId": "34752e8c-bc2f-4d6f-c8d5-a5e91cf321b3"
      },
      "source": [],
      "execution_count": null,
      "outputs": [
        {
          "output_type": "stream",
          "text": [
            "root\n",
            " |-- Date: string (nullable = true)\n",
            " |-- Open: double (nullable = true)\n",
            " |-- High: double (nullable = true)\n",
            " |-- Low: double (nullable = true)\n",
            " |-- Close: double (nullable = true)\n",
            " |-- Volume: integer (nullable = true)\n",
            " |-- Adj Close: double (nullable = true)\n",
            "\n"
          ],
          "name": "stdout"
        }
      ]
    },
    {
      "cell_type": "markdown",
      "metadata": {
        "id": "dMlfVQeOwFu0"
      },
      "source": [
        "## Checkpoint 1:Print out the first 5 columns."
      ]
    },
    {
      "cell_type": "code",
      "metadata": {
        "id": "_QzB3nmJwFu1",
        "colab": {
          "base_uri": "https://localhost:8080/"
        },
        "outputId": "d76ea897-5a94-45ad-ca03-695591bb50d8"
      },
      "source": [],
      "execution_count": 29,
      "outputs": [
        {
          "output_type": "stream",
          "name": "stdout",
          "text": [
            "Row(Date='2012-01-03', Open=59.970001, High=61.060001, Low=59.869999, Close=60.330002, Volume=12668800, Adj Close=52.619234999999996)\n",
            "Row(Date='2012-01-04', Open=60.209998999999996, High=60.349998, Low=59.470001, Close=59.709998999999996, Volume=9593300, Adj Close=52.078475)\n",
            "Row(Date='2012-01-05', Open=59.349998, High=59.619999, Low=58.369999, Close=59.419998, Volume=12768200, Adj Close=51.825539)\n",
            "Row(Date='2012-01-06', Open=59.419998, High=59.450001, Low=58.869999, Close=59.0, Volume=8069400, Adj Close=51.45922)\n",
            "Row(Date='2012-01-09', Open=59.029999, High=59.549999, Low=58.919998, Close=59.18, Volume=6679300, Adj Close=51.616215000000004)\n"
          ]
        }
      ]
    },
    {
      "cell_type": "markdown",
      "metadata": {
        "id": "00ckfCFJwFu1"
      },
      "source": [
        "## Checkpoint 2: Use describe() to learn about the DataFrame."
      ]
    },
    {
      "cell_type": "code",
      "metadata": {
        "id": "yvS8dfD5wFu1",
        "colab": {
          "base_uri": "https://localhost:8080/"
        },
        "outputId": "a0051bdf-bc2c-4bc9-9844-6d5956e455fc"
      },
      "source": [],
      "execution_count": 30,
      "outputs": [
        {
          "output_type": "stream",
          "name": "stdout",
          "text": [
            "+-------+----------+------------------+-----------------+-----------------+-----------------+-----------------+-----------------+\n",
            "|summary|      Date|              Open|             High|              Low|            Close|           Volume|        Adj Close|\n",
            "+-------+----------+------------------+-----------------+-----------------+-----------------+-----------------+-----------------+\n",
            "|  count|      1258|              1258|             1258|             1258|             1258|             1258|             1258|\n",
            "|   mean|      null| 72.35785375357709|72.83938807631165| 71.9186009594594|72.38844998012726|8222093.481717011|67.23883848728146|\n",
            "| stddev|      null|  6.76809024470826|6.768186808159218|6.744075756255496|6.756859163732991|  4519780.8431556|6.722609449996857|\n",
            "|    min|2012-01-03|56.389998999999996|        57.060001|        56.299999|        56.419998|          2094900|        50.363689|\n",
            "|    max|2016-12-30|         90.800003|        90.970001|            89.25|        90.470001|         80898100|84.91421600000001|\n",
            "+-------+----------+------------------+-----------------+-----------------+-----------------+-----------------+-----------------+\n",
            "\n"
          ]
        }
      ]
    },
    {
      "cell_type": "markdown",
      "metadata": {
        "id": "GdffmS2cwFu1"
      },
      "source": [
        "\n",
        "#### There are too many decimal places for mean and stddev in the describe() dataframe. Format the numbers to just show up to two decimal places. Pay careful attention to the datatypes that .describe() returns, we didn't cover how to do this exact formatting, but we covered something very similar. [Check this link for a hint](https://spark.apache.org/docs/3.0.1/api/python/pyspark.sql.html?highlight=describe#pyspark.sql.DataFrame.describe)"
      ]
    },
    {
      "cell_type": "code",
      "metadata": {
        "id": "L330C5ESwFu2",
        "colab": {
          "base_uri": "https://localhost:8080/"
        },
        "outputId": "112326df-c77b-4c88-9887-3a0a846ac43d"
      },
      "source": [
        "# Uh oh Strings! \n",
        "df.describe().printSchema()"
      ],
      "execution_count": 31,
      "outputs": [
        {
          "output_type": "stream",
          "name": "stdout",
          "text": [
            "root\n",
            " |-- summary: string (nullable = true)\n",
            " |-- Date: string (nullable = true)\n",
            " |-- Open: string (nullable = true)\n",
            " |-- High: string (nullable = true)\n",
            " |-- Low: string (nullable = true)\n",
            " |-- Close: string (nullable = true)\n",
            " |-- Volume: string (nullable = true)\n",
            " |-- Adj Close: string (nullable = true)\n",
            "\n"
          ]
        }
      ]
    },
    {
      "cell_type": "code",
      "metadata": {
        "collapsed": true,
        "id": "P9ZaNJKowFu2"
      },
      "source": [
        "from pyspark.sql.functions import format_number"
      ],
      "execution_count": 32,
      "outputs": []
    },
    {
      "cell_type": "code",
      "metadata": {
        "colab": {
          "base_uri": "https://localhost:8080/"
        },
        "outputId": "8893fa5a-b1df-4404-a759-f806500852e1",
        "id": "5eNjc8dkYwvn"
      },
      "source": [
        "# hint\n",
        "result = df.describe()\n",
        "result.select(result['summary'],\n",
        "              format_number(result['Open'].cast('float'),2).alias('Open'),\n",
        "              format_number(result['Close'].cast('float'),2).alias('Close'),\n",
        "             ).show()"
      ],
      "execution_count": 33,
      "outputs": [
        {
          "output_type": "stream",
          "name": "stdout",
          "text": [
            "+-------+--------+--------+\n",
            "|summary|    Open|   Close|\n",
            "+-------+--------+--------+\n",
            "|  count|1,258.00|1,258.00|\n",
            "|   mean|   72.36|   72.39|\n",
            "| stddev|    6.77|    6.76|\n",
            "|    min|   56.39|   56.42|\n",
            "|    max|   90.80|   90.47|\n",
            "+-------+--------+--------+\n",
            "\n"
          ]
        }
      ]
    },
    {
      "cell_type": "markdown",
      "source": [
        "## Checkpoint 3: format number"
      ],
      "metadata": {
        "id": "4icKEEUeZG8x"
      }
    },
    {
      "cell_type": "code",
      "metadata": {
        "id": "j0mBQiV8wFu2",
        "colab": {
          "base_uri": "https://localhost:8080/"
        },
        "outputId": "e2a447fc-432e-4303-99be-4414a8a8a923"
      },
      "source": [],
      "execution_count": null,
      "outputs": [
        {
          "output_type": "stream",
          "text": [
            "+-------+--------+--------+--------+--------+--------+\n",
            "|summary|    Open|    High|     Low|   Close|  Volume|\n",
            "+-------+--------+--------+--------+--------+--------+\n",
            "|  count|1,258.00|1,258.00|1,258.00|1,258.00|    1258|\n",
            "|   mean|   72.36|   72.84|   71.92|   72.39| 8222093|\n",
            "| stddev|    6.77|    6.77|    6.74|    6.76| 4519780|\n",
            "|    min|   56.39|   57.06|   56.30|   56.42| 2094900|\n",
            "|    max|   90.80|   90.97|   89.25|   90.47|80898100|\n",
            "+-------+--------+--------+--------+--------+--------+\n",
            "\n"
          ],
          "name": "stdout"
        }
      ]
    },
    {
      "cell_type": "markdown",
      "metadata": {
        "id": "dfXkOlm3wFu3"
      },
      "source": [
        "## Checkpoint 4: HV Ratio\n",
        "HV Ratio = df[\"High\"]/df[\"Volume\"]\n",
        "#### Create a new dataframe with a column called HV Ratio that is the ratio of the High Price versus volume of stock traded for a day."
      ]
    },
    {
      "cell_type": "code",
      "metadata": {
        "id": "VBTntbdWwFu3",
        "colab": {
          "base_uri": "https://localhost:8080/"
        },
        "outputId": "69f31bdc-abb8-40ca-d392-36a55475d2b9"
      },
      "source": [],
      "execution_count": null,
      "outputs": [
        {
          "output_type": "stream",
          "text": [
            "+--------------------+\n",
            "|            HV Ratio|\n",
            "+--------------------+\n",
            "|4.819714653321546E-6|\n",
            "|6.290848613094555E-6|\n",
            "|4.669412994783916E-6|\n",
            "|7.367338463826307E-6|\n",
            "|8.915604778943901E-6|\n",
            "|8.644477436914568E-6|\n",
            "|9.351828421515645E-6|\n",
            "| 8.29141562102703E-6|\n",
            "|7.712212102001476E-6|\n",
            "|7.071764823529412E-6|\n",
            "|1.015495466386981E-5|\n",
            "|6.576354146362592...|\n",
            "| 5.90145296180676E-6|\n",
            "|8.547679455011844E-6|\n",
            "|8.420709512685392E-6|\n",
            "|1.041448341728929...|\n",
            "|8.316075414862431E-6|\n",
            "|9.721183814992126E-6|\n",
            "|8.029436027707578E-6|\n",
            "|6.307432259386365E-6|\n",
            "+--------------------+\n",
            "only showing top 20 rows\n",
            "\n"
          ],
          "name": "stdout"
        }
      ]
    },
    {
      "cell_type": "markdown",
      "metadata": {
        "id": "pASph43NwFu3"
      },
      "source": [
        "#### What day had the Peak High in Price?"
      ]
    },
    {
      "cell_type": "code",
      "metadata": {
        "id": "axinjqWJwFu3",
        "outputId": "64cda9ab-0b6a-4de1-900d-bd47f21a53c6"
      },
      "source": [
        "# Didn't need to really do this much indexing\n",
        "# Could have just shown the entire row\n",
        "df.orderBy(df[\"High\"].desc()).head(1)[0][0]"
      ],
      "execution_count": null,
      "outputs": [
        {
          "output_type": "execute_result",
          "data": {
            "text/plain": [
              "datetime.datetime(2015, 1, 13, 0, 0)"
            ]
          },
          "metadata": {
            "tags": []
          },
          "execution_count": 88
        }
      ]
    },
    {
      "cell_type": "markdown",
      "metadata": {
        "id": "sidgNJrKwFu4"
      },
      "source": [
        "## Checkpoint 5: What is the mean, max and min of the Close column?"
      ]
    },
    {
      "cell_type": "code",
      "metadata": {
        "collapsed": true,
        "id": "xn1YP2fPwFu4"
      },
      "source": [
        "# Could have also used describe\n",
        "from pyspark.sql.functions import mean,max,min"
      ],
      "execution_count": null,
      "outputs": []
    },
    {
      "cell_type": "code",
      "metadata": {
        "id": "3-F26yP0wFu4",
        "outputId": "e2661eea-17ed-4be7-f230-95b417f237da",
        "colab": {
          "base_uri": "https://localhost:8080/"
        }
      },
      "source": [],
      "execution_count": 23,
      "outputs": [
        {
          "output_type": "stream",
          "name": "stdout",
          "text": [
            "+-----------------+----------+----------+\n",
            "|       avg(Close)|max(Close)|min(Close)|\n",
            "+-----------------+----------+----------+\n",
            "|72.38844998012726| 90.470001| 56.419998|\n",
            "+-----------------+----------+----------+\n",
            "\n"
          ]
        }
      ]
    },
    {
      "cell_type": "markdown",
      "metadata": {
        "id": "at1YAUjAwFu5"
      },
      "source": [
        "## Checkpoint 6: How many days was the Close lower than 60 dollars?"
      ]
    },
    {
      "cell_type": "code",
      "metadata": {
        "id": "DU4shbl1wFu5",
        "outputId": "f53b8da0-0e58-4a96-cc47-6b4abcff809f"
      },
      "source": [
        "from pyspark.sql.functions import count # hint\n"
      ],
      "execution_count": null,
      "outputs": [
        {
          "output_type": "stream",
          "text": [
            "+------------+\n",
            "|count(Close)|\n",
            "+------------+\n",
            "|          81|\n",
            "+------------+\n",
            "\n"
          ],
          "name": "stdout"
        }
      ]
    },
    {
      "cell_type": "markdown",
      "metadata": {
        "id": "-mjRQsNLwFu6"
      },
      "source": [
        "## Checkpoint 7: What percentage of the time was the High greater than 80 dollars ?\n",
        "#### In other words, (Number of Days High>80)/(Total Days in the dataset)"
      ]
    },
    {
      "cell_type": "code",
      "metadata": {
        "id": "PW2J1bUTwFu6",
        "outputId": "e3ce2289-a020-4ac5-ed04-ae8bf7fffac4"
      },
      "source": [
        "# Many ways to do this\n"
      ],
      "execution_count": null,
      "outputs": [
        {
          "output_type": "execute_result",
          "data": {
            "text/plain": [
              "9.141494435612083"
            ]
          },
          "metadata": {
            "tags": []
          },
          "execution_count": 107
        }
      ]
    },
    {
      "cell_type": "markdown",
      "metadata": {
        "id": "4EFdzaC_wFu6"
      },
      "source": [
        "## Checkpoint 8: What is the Pearson correlation between High and Volume?\n",
        "hint: corr(\"High\",\"Volume\")\n",
        "#### [Hint](https://spark.apache.org/docs/3.0.1/api/python/pyspark.sql.html?highlight=dataframestatfunctions#pyspark.sql.DataFrameStatFunctions)"
      ]
    },
    {
      "cell_type": "code",
      "metadata": {
        "id": "Y2231j4JwFu6",
        "colab": {
          "base_uri": "https://localhost:8080/"
        },
        "outputId": "5bd74c70-fc55-49f8-c14e-0e352c8afbc1"
      },
      "source": [
        "from pyspark.sql.functions import corr # hint\n"
      ],
      "execution_count": null,
      "outputs": [
        {
          "output_type": "stream",
          "text": [
            "+-------------------+\n",
            "| corr(High, Volume)|\n",
            "+-------------------+\n",
            "|-0.3384326061737161|\n",
            "+-------------------+\n",
            "\n"
          ],
          "name": "stdout"
        }
      ]
    },
    {
      "cell_type": "markdown",
      "metadata": {
        "id": "8HtPvTfXwFu7"
      },
      "source": [
        "#### What is the max High per year?"
      ]
    },
    {
      "cell_type": "code",
      "metadata": {
        "collapsed": true,
        "id": "TzQWGtRPwFu7"
      },
      "source": [
        "from pyspark.sql.functions import year\n",
        "yeardf = df.withColumn(\"Year\",year(df[\"Date\"]))"
      ],
      "execution_count": 34,
      "outputs": []
    },
    {
      "cell_type": "code",
      "metadata": {
        "id": "oRRC7cVXwFu7",
        "colab": {
          "base_uri": "https://localhost:8080/"
        },
        "outputId": "3bb33f7f-7a04-40b6-dfed-dd427b24865e"
      },
      "source": [
        "max_df = yeardf.groupBy('Year').max()\n",
        "max_df.select('Year','max(High)').show()"
      ],
      "execution_count": 35,
      "outputs": [
        {
          "output_type": "stream",
          "name": "stdout",
          "text": [
            "+----+---------+\n",
            "|Year|max(High)|\n",
            "+----+---------+\n",
            "|2015|90.970001|\n",
            "|2013|81.370003|\n",
            "|2014|88.089996|\n",
            "|2012|77.599998|\n",
            "|2016|75.190002|\n",
            "+----+---------+\n",
            "\n"
          ]
        }
      ]
    },
    {
      "cell_type": "markdown",
      "metadata": {
        "id": "dkgGoLmrwFu7"
      },
      "source": [
        "## Checkpoint 9: What is the average Close for each Calendar Month?\n",
        "#### In other words, across all the years, what is the average Close price for Jan,Feb, Mar, etc... Your result will have a value for each of these months. "
      ]
    },
    {
      "cell_type": "code",
      "metadata": {
        "id": "cw-h8jxqwFu7"
      },
      "source": [
        "from pyspark.sql.functions import month \n",
        "# hint\n",
        "monthdf = df.withColumn(\"Month\",month(\"Date\"))"
      ],
      "execution_count": 27,
      "outputs": []
    },
    {
      "cell_type": "code",
      "source": [
        "# hint: group by \"Month\"\n"
      ],
      "metadata": {
        "colab": {
          "base_uri": "https://localhost:8080/"
        },
        "id": "3Jow400ibWMA",
        "outputId": "d3f872f5-ebae-4bfc-e41a-272ee4e90977"
      },
      "execution_count": 28,
      "outputs": [
        {
          "output_type": "stream",
          "name": "stdout",
          "text": [
            "+-----+-----------------+\n",
            "|Month|       avg(Close)|\n",
            "+-----+-----------------+\n",
            "|    1|71.44801958415842|\n",
            "|    2|  71.306804443299|\n",
            "|    3|71.77794377570092|\n",
            "|    4|72.97361900952382|\n",
            "|    5|72.30971688679247|\n",
            "|    6| 72.4953774245283|\n",
            "|    7|74.43971943925233|\n",
            "|    8|73.02981855454546|\n",
            "|    9|72.18411785294116|\n",
            "|   10|71.57854545454543|\n",
            "|   11| 72.1110893069307|\n",
            "|   12|72.84792478301885|\n",
            "+-----+-----------------+\n",
            "\n"
          ]
        }
      ]
    },
    {
      "cell_type": "markdown",
      "metadata": {
        "id": "pNYw0uiKwFu8"
      },
      "source": [
        "# Great!"
      ]
    }
  ]
}